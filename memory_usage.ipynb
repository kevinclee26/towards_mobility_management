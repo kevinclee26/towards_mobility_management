{
 "cells": [
  {
   "cell_type": "code",
   "execution_count": 45,
   "metadata": {},
   "outputs": [],
   "source": [
    "import pymongo\n",
    "import pandas as pd\n",
    "import matplotlib.pyplot as plt\n",
    "import datetime as dt"
   ]
  },
  {
   "cell_type": "code",
   "execution_count": 111,
   "metadata": {},
   "outputs": [],
   "source": [
    "# Initialize PyMongo to work with MongoDBs\n",
    "conn = 'mongodb://localhost:27017'\n",
    "client = pymongo.MongoClient(conn)\n",
    "\n",
    "# Define database and collection\n",
    "db = client.scooters_DB\n",
    "log=db.log"
   ]
  },
  {
   "cell_type": "code",
   "execution_count": 112,
   "metadata": {},
   "outputs": [
    {
     "data": {
      "text/html": [
       "<div>\n",
       "<style scoped>\n",
       "    .dataframe tbody tr th:only-of-type {\n",
       "        vertical-align: middle;\n",
       "    }\n",
       "\n",
       "    .dataframe tbody tr th {\n",
       "        vertical-align: top;\n",
       "    }\n",
       "\n",
       "    .dataframe thead th {\n",
       "        text-align: right;\n",
       "    }\n",
       "</style>\n",
       "<table border=\"1\" class=\"dataframe\">\n",
       "  <thead>\n",
       "    <tr style=\"text-align: right;\">\n",
       "      <th></th>\n",
       "      <th>_id</th>\n",
       "      <th>jobname</th>\n",
       "      <th>last_updated</th>\n",
       "      <th>len</th>\n",
       "      <th>status</th>\n",
       "      <th>name</th>\n",
       "      <th>size</th>\n",
       "    </tr>\n",
       "    <tr>\n",
       "      <th>time</th>\n",
       "      <th></th>\n",
       "      <th></th>\n",
       "      <th></th>\n",
       "      <th></th>\n",
       "      <th></th>\n",
       "      <th></th>\n",
       "      <th></th>\n",
       "    </tr>\n",
       "  </thead>\n",
       "  <tbody>\n",
       "    <tr>\n",
       "      <th>2021-03-26 19:13:19.039094925</th>\n",
       "      <td>605e324f9a4d337eaa356329</td>\n",
       "      <td>P86XcW24n5B1amHeJJ4c3g</td>\n",
       "      <td>1616785870</td>\n",
       "      <td>985</td>\n",
       "      <td>success</td>\n",
       "      <td>lyft</td>\n",
       "      <td>7984</td>\n",
       "    </tr>\n",
       "    <tr>\n",
       "      <th>2021-03-26 19:13:20.540954828</th>\n",
       "      <td>605e32509a4d337eaa356f08</td>\n",
       "      <td>veCzP1JxVbJeTVpcNjX2Bw</td>\n",
       "      <td>1616785999</td>\n",
       "      <td>3038</td>\n",
       "      <td>success</td>\n",
       "      <td>lime</td>\n",
       "      <td>26736</td>\n",
       "    </tr>\n",
       "    <tr>\n",
       "      <th>2021-03-26 19:13:21.506874084</th>\n",
       "      <td>605e32519a4d337eaa357717</td>\n",
       "      <td>GWM1InMM8vaKhHgEvfx7ZA</td>\n",
       "      <td>1616786000</td>\n",
       "      <td>2062</td>\n",
       "      <td>success</td>\n",
       "      <td>spin</td>\n",
       "      <td>16560</td>\n",
       "    </tr>\n",
       "    <tr>\n",
       "      <th>2021-03-26 19:13:21.889271021</th>\n",
       "      <td>605e32519a4d337eaa357718</td>\n",
       "      <td>OjtAsrhJgKbTO2LTgUD0yA</td>\n",
       "      <td>NA</td>\n",
       "      <td>0</td>\n",
       "      <td>failed</td>\n",
       "      <td>skip</td>\n",
       "      <td>0</td>\n",
       "    </tr>\n",
       "    <tr>\n",
       "      <th>2021-03-26 19:13:22.551476002</th>\n",
       "      <td>605e32529a4d337eaa3579bc</td>\n",
       "      <td>SneyDFTD0xfJXscbQL3m4Q</td>\n",
       "      <td>NA</td>\n",
       "      <td>675</td>\n",
       "      <td>success</td>\n",
       "      <td>bird</td>\n",
       "      <td>5496</td>\n",
       "    </tr>\n",
       "  </tbody>\n",
       "</table>\n",
       "</div>"
      ],
      "text/plain": [
       "                                                    _id  \\\n",
       "time                                                      \n",
       "2021-03-26 19:13:19.039094925  605e324f9a4d337eaa356329   \n",
       "2021-03-26 19:13:20.540954828  605e32509a4d337eaa356f08   \n",
       "2021-03-26 19:13:21.506874084  605e32519a4d337eaa357717   \n",
       "2021-03-26 19:13:21.889271021  605e32519a4d337eaa357718   \n",
       "2021-03-26 19:13:22.551476002  605e32529a4d337eaa3579bc   \n",
       "\n",
       "                                              jobname last_updated   len  \\\n",
       "time                                                                       \n",
       "2021-03-26 19:13:19.039094925  P86XcW24n5B1amHeJJ4c3g   1616785870   985   \n",
       "2021-03-26 19:13:20.540954828  veCzP1JxVbJeTVpcNjX2Bw   1616785999  3038   \n",
       "2021-03-26 19:13:21.506874084  GWM1InMM8vaKhHgEvfx7ZA   1616786000  2062   \n",
       "2021-03-26 19:13:21.889271021  OjtAsrhJgKbTO2LTgUD0yA           NA     0   \n",
       "2021-03-26 19:13:22.551476002  SneyDFTD0xfJXscbQL3m4Q           NA   675   \n",
       "\n",
       "                                status  name   size  \n",
       "time                                                 \n",
       "2021-03-26 19:13:19.039094925  success  lyft   7984  \n",
       "2021-03-26 19:13:20.540954828  success  lime  26736  \n",
       "2021-03-26 19:13:21.506874084  success  spin  16560  \n",
       "2021-03-26 19:13:21.889271021   failed  skip      0  \n",
       "2021-03-26 19:13:22.551476002  success  bird   5496  "
      ]
     },
     "execution_count": 112,
     "metadata": {},
     "output_type": "execute_result"
    }
   ],
   "source": [
    "df=pd.DataFrame(log.find())\n",
    "df['time']=pd.to_datetime(df['time'], unit='s')\n",
    "df=df.set_index('time')\n",
    "df.head()"
   ]
  },
  {
   "cell_type": "code",
   "execution_count": 128,
   "metadata": {},
   "outputs": [
    {
     "data": {
      "text/html": [
       "<div>\n",
       "<style scoped>\n",
       "    .dataframe tbody tr th:only-of-type {\n",
       "        vertical-align: middle;\n",
       "    }\n",
       "\n",
       "    .dataframe tbody tr th {\n",
       "        vertical-align: top;\n",
       "    }\n",
       "\n",
       "    .dataframe thead th {\n",
       "        text-align: right;\n",
       "    }\n",
       "</style>\n",
       "<table border=\"1\" class=\"dataframe\">\n",
       "  <thead>\n",
       "    <tr style=\"text-align: right;\">\n",
       "      <th>status</th>\n",
       "      <th>failed</th>\n",
       "      <th>success</th>\n",
       "    </tr>\n",
       "    <tr>\n",
       "      <th>name</th>\n",
       "      <th></th>\n",
       "      <th></th>\n",
       "    </tr>\n",
       "  </thead>\n",
       "  <tbody>\n",
       "    <tr>\n",
       "      <th>bird</th>\n",
       "      <td>NaN</td>\n",
       "      <td>119.0</td>\n",
       "    </tr>\n",
       "    <tr>\n",
       "      <th>lime</th>\n",
       "      <td>NaN</td>\n",
       "      <td>119.0</td>\n",
       "    </tr>\n",
       "    <tr>\n",
       "      <th>lyft</th>\n",
       "      <td>NaN</td>\n",
       "      <td>119.0</td>\n",
       "    </tr>\n",
       "    <tr>\n",
       "      <th>razor</th>\n",
       "      <td>118.0</td>\n",
       "      <td>1.0</td>\n",
       "    </tr>\n",
       "    <tr>\n",
       "      <th>skip</th>\n",
       "      <td>119.0</td>\n",
       "      <td>NaN</td>\n",
       "    </tr>\n",
       "    <tr>\n",
       "      <th>spin</th>\n",
       "      <td>NaN</td>\n",
       "      <td>119.0</td>\n",
       "    </tr>\n",
       "    <tr>\n",
       "      <th>weather</th>\n",
       "      <td>NaN</td>\n",
       "      <td>119.0</td>\n",
       "    </tr>\n",
       "  </tbody>\n",
       "</table>\n",
       "</div>"
      ],
      "text/plain": [
       "status   failed  success\n",
       "name                    \n",
       "bird        NaN    119.0\n",
       "lime        NaN    119.0\n",
       "lyft        NaN    119.0\n",
       "razor     118.0      1.0\n",
       "skip      119.0      NaN\n",
       "spin        NaN    119.0\n",
       "weather     NaN    119.0"
      ]
     },
     "execution_count": 128,
     "metadata": {},
     "output_type": "execute_result"
    }
   ],
   "source": [
    "df[['name', 'status']].pivot_table(index='name', columns='status', aggfunc='size')"
   ]
  },
  {
   "cell_type": "code",
   "execution_count": 125,
   "metadata": {},
   "outputs": [
    {
     "data": {
      "text/plain": [
       "9.916666666666666"
      ]
     },
     "execution_count": 125,
     "metadata": {},
     "output_type": "execute_result"
    }
   ],
   "source": [
    "len(df[df['name']=='weather'])*5/60"
   ]
  },
  {
   "cell_type": "code",
   "execution_count": 113,
   "metadata": {
    "scrolled": true
   },
   "outputs": [
    {
     "data": {
      "text/plain": [
       "<matplotlib.axes._subplots.AxesSubplot at 0x7fde36fae7f0>"
      ]
     },
     "execution_count": 113,
     "metadata": {},
     "output_type": "execute_result"
    },
    {
     "data": {
      "image/png": "[encoded data removed]",
      "text/plain": [
       "<Figure size 432x288 with 1 Axes>"
      ]
     },
     "metadata": {
      "needs_background": "light"
     },
     "output_type": "display_data"
    }
   ],
   "source": [
    "df['len'].reset_index().plot(x='time', y='len', kind='scatter')"
   ]
  },
  {
   "cell_type": "code",
   "execution_count": 114,
   "metadata": {},
   "outputs": [
    {
     "data": {
      "text/plain": [
       "(737875.8009148043, 737876.214136654)"
      ]
     },
     "execution_count": 114,
     "metadata": {},
     "output_type": "execute_result"
    },
    {
     "data": {
      "image/png": "[encoded data removed]",
      "text/plain": [
       "<Figure size 432x288 with 1 Axes>"
      ]
     },
     "metadata": {
      "needs_background": "light"
     },
     "output_type": "display_data"
    }
   ],
   "source": [
    "plt.scatter(x=df.index, y=df['len'].cumsum())\n",
    "min_time=df.index.min()\n",
    "max_time=df.index.max()\n",
    "# plt.xlim([dt.date.fromisoformat('2021-03-26'), dt.date.fromisoformat('2021-03-27')])\n",
    "plt.xlim([min_time, max_time])"
   ]
  },
  {
   "cell_type": "code",
   "execution_count": 115,
   "metadata": {},
   "outputs": [
    {
     "data": {
      "text/plain": [
       "datetime.date(2021, 3, 6)"
      ]
     },
     "execution_count": 115,
     "metadata": {},
     "output_type": "execute_result"
    }
   ],
   "source": [
    "dt.date.fromisoformat('2021-03-06')"
   ]
  },
  {
   "cell_type": "code",
   "execution_count": 118,
   "metadata": {},
   "outputs": [
    {
     "data": {
      "text/plain": [
       "172.21996"
      ]
     },
     "execution_count": 118,
     "metadata": {},
     "output_type": "execute_result"
    }
   ],
   "source": [
    "df['len'].cumsum().max()*220/1000000"
   ]
  },
  {
   "cell_type": "code",
   "execution_count": 117,
   "metadata": {},
   "outputs": [
    {
     "data": {
      "text/plain": [
       "<matplotlib.axes._subplots.AxesSubplot at 0x7fde3c966390>"
      ]
     },
     "execution_count": 117,
     "metadata": {},
     "output_type": "execute_result"
    },
    {
     "data": {
      "image/png": "[encoded data removed]",
      "text/plain": [
       "<Figure size 432x288 with 1 Axes>"
      ]
     },
     "metadata": {
      "needs_background": "light"
     },
     "output_type": "display_data"
    }
   ],
   "source": [
    "pd.get_dummies(df['status']).cumsum().plot()"
   ]
  },
  {
   "cell_type": "code",
   "execution_count": null,
   "metadata": {},
   "outputs": [],
   "source": []
  },
  {
   "cell_type": "code",
   "execution_count": null,
   "metadata": {},
   "outputs": [],
   "source": []
  },
  {
   "cell_type": "code",
   "execution_count": null,
   "metadata": {},
   "outputs": [],
   "source": []
  }
 ],
 "metadata": {
  "kernelspec": {
   "display_name": "Python 3",
   "language": "python",
   "name": "python3"
  },
  "language_info": {
   "codemirror_mode": {
    "name": "ipython",
    "version": 3
   },
   "file_extension": ".py",
   "mimetype": "text/x-python",
   "name": "python",
   "nbconvert_exporter": "python",
   "pygments_lexer": "ipython3",
   "version": "3.7.1"
  }
 },
 "nbformat": 4,
 "nbformat_minor": 2
}
